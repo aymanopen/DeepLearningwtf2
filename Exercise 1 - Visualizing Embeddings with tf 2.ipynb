{
 "cells": [
  {
   "cell_type": "code",
   "execution_count": null,
   "metadata": {},
   "outputs": [],
   "source": [
    "from tensorflow.keras.layers import Input, Embedding, Dense, LSTM, Dropout\n",
    "from tensorflow.keras.utils import to_categorical\n",
    "from tensorflow.keras.optimizers import Adam\n",
    "from tensorflow.keras.losses import categorical_crossentropy,sparse_categorical_crossentropy\n",
    "from tensorflow.keras import Model\n",
    "from tensorflow.keras.callbacks import LambdaCallback\n",
    "import tensorflow as tf\n",
    "import matplotlib.pyplot as plt\n",
    "import os\n",
    "import numpy as np"
   ]
  },
  {
   "cell_type": "code",
   "execution_count": null,
   "metadata": {},
   "outputs": [],
   "source": [
    "list_length=5\n",
    "lessthan5=list(range(list_length))\n",
    "morethan5=list(range(list_length,list_length*2))\n",
    "groups=np.append(np.zeros(list_length),np.ones(list_length))"
   ]
  },
  {
   "cell_type": "code",
   "execution_count": null,
   "metadata": {},
   "outputs": [],
   "source": [
    "def create_groups(list1,list2):\n",
    "    labels=[]\n",
    "    feats=[]\n",
    "    for x in range(20000):\n",
    "        labels.append(np.random.choice(list1))\n",
    "        feats.append(np.random.choice(list1))\n",
    "        labels.append(np.random.choice(list2))\n",
    "        feats.append(np.random.choice(list2))\n",
    "    return labels,feats"
   ]
  },
  {
   "cell_type": "code",
   "execution_count": null,
   "metadata": {},
   "outputs": [],
   "source": [
    "labels,feats=create_groups(lessthan5,morethan5)"
   ]
  },
  {
   "cell_type": "markdown",
   "metadata": {},
   "source": [
    "# Model 1"
   ]
  },
  {
   "cell_type": "code",
   "execution_count": null,
   "metadata": {},
   "outputs": [],
   "source": [
    "inp=Input(shape=(10))\n",
    "dens=Dense(2)\n",
    "dens1=dens(inp)\n",
    "dens1=Dropout(0.1)(dens1)\n",
    "out=Dense(10,activation='softmax')(dens1)\n",
    "\n",
    "model=Model(inp,out)\n",
    "model.compile(optimizer='adam',loss='categorical_crossentropy')"
   ]
  },
  {
   "cell_type": "code",
   "execution_count": null,
   "metadata": {},
   "outputs": [],
   "source": [
    "model.summary()"
   ]
  },
  {
   "cell_type": "code",
   "execution_count": null,
   "metadata": {},
   "outputs": [],
   "source": [
    "weights_before=dens.get_weights()\n",
    "weights_before"
   ]
  },
  {
   "cell_type": "code",
   "execution_count": null,
   "metadata": {},
   "outputs": [],
   "source": [
    "def plot_embedding(weights,groups):\n",
    "    \n",
    "    dim1=[w[0] for w in weights]\n",
    "    dim2=[w[1] for w in weights]\n",
    "    half=int(len(dim1)/2)\n",
    "    color=groups\n",
    "    import seaborn as sns\n",
    "    sns.scatterplot(dim1,dim2,hue=color)\n",
    "    plt.show()"
   ]
  },
  {
   "cell_type": "code",
   "execution_count": null,
   "metadata": {},
   "outputs": [],
   "source": [
    "def plotter_model1(b1):\n",
    "    if b1 % 100==0:\n",
    "        (plot_embedding(dens.get_weights()[0],groups))\n",
    "lambda_func=LambdaCallback(on_batch_begin=lambda batch,logs: plotter_model1(batch))"
   ]
  },
  {
   "cell_type": "code",
   "execution_count": null,
   "metadata": {
    "scrolled": true
   },
   "outputs": [],
   "source": [
    "model.fit(to_categorical(np.array(feats)),to_categorical(np.array(labels)),epochs=1,batch_size=32,callbacks=[lambda_func])"
   ]
  },
  {
   "cell_type": "markdown",
   "metadata": {},
   "source": [
    "# compre at the begining versus after training"
   ]
  },
  {
   "cell_type": "markdown",
   "metadata": {},
   "source": [
    "# Model 2\n",
    "using tensorflow Embedding layer"
   ]
  },
  {
   "cell_type": "code",
   "execution_count": null,
   "metadata": {},
   "outputs": [],
   "source": [
    "# train on a superficial task"
   ]
  },
  {
   "cell_type": "code",
   "execution_count": null,
   "metadata": {},
   "outputs": [],
   "source": [
    "emb_input=Input(shape=(1))\n",
    "emb=Embedding(10,2)\n",
    "out=emb(emb_input)\n",
    "out2=Dense(1,activation='relu')(out)\n",
    "out2=Dropout(0.5)(out2)\n",
    "model2=Model(emb_input,out2)"
   ]
  },
  {
   "cell_type": "code",
   "execution_count": null,
   "metadata": {},
   "outputs": [],
   "source": [
    "model2.compile(optimizer='adam',loss='mean_absolute_error')"
   ]
  },
  {
   "cell_type": "code",
   "execution_count": null,
   "metadata": {},
   "outputs": [],
   "source": [
    "model2.summary()"
   ]
  },
  {
   "cell_type": "code",
   "execution_count": null,
   "metadata": {},
   "outputs": [],
   "source": [
    "weights_before2=emb.get_weights()[0]\n",
    "weights_before2"
   ]
  },
  {
   "cell_type": "code",
   "execution_count": null,
   "metadata": {
    "scrolled": true
   },
   "outputs": [],
   "source": [
    "plot_embedding(weights_before2,groups)"
   ]
  },
  {
   "cell_type": "code",
   "execution_count": null,
   "metadata": {},
   "outputs": [],
   "source": [
    "def plotter2(b1):\n",
    "    if b1 % 100==0:\n",
    "        (plot_embedding(emb.get_weights()[0],groups))\n",
    "lambda_func2=LambdaCallback(on_batch_begin=lambda batch,logs: plotter2(batch))"
   ]
  },
  {
   "cell_type": "code",
   "execution_count": null,
   "metadata": {
    "scrolled": true
   },
   "outputs": [],
   "source": [
    "model2.fit(np.array(feats),np.array(labels),epochs=1,batch_size=32,callbacks=[lambda_func2])"
   ]
  },
  {
   "cell_type": "code",
   "execution_count": null,
   "metadata": {},
   "outputs": [],
   "source": []
  },
  {
   "cell_type": "markdown",
   "metadata": {},
   "source": [
    "# We saw how embedding works by finding representations for groups that co-occur frequently\n",
    "# Try to change the lists above to things like odd number vs even numbers and re run the code "
   ]
  },
  {
   "cell_type": "code",
   "execution_count": null,
   "metadata": {},
   "outputs": [],
   "source": []
  }
 ],
 "metadata": {
  "kernelspec": {
   "display_name": "Python 3",
   "language": "python",
   "name": "python3"
  },
  "language_info": {
   "codemirror_mode": {
    "name": "ipython",
    "version": 3
   },
   "file_extension": ".py",
   "mimetype": "text/x-python",
   "name": "python",
   "nbconvert_exporter": "python",
   "pygments_lexer": "ipython3",
   "version": "3.7.3"
  }
 },
 "nbformat": 4,
 "nbformat_minor": 2
}
